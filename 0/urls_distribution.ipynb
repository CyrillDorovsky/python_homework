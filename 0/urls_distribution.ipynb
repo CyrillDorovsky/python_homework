{
 "cells": [
  {
   "cell_type": "code",
   "execution_count": 12,
   "metadata": {},
   "outputs": [
    {
     "data": {
      "text/plain": [
       "{'articles': 7,\n",
       " 'auto': 1,\n",
       " 'business': 5,\n",
       " 'cis': 4,\n",
       " 'economics': 3,\n",
       " 'europe': 1,\n",
       " 'finances': 1,\n",
       " 'head': 3,\n",
       " 'health': 2,\n",
       " 'incidents': 6,\n",
       " 'kinomusic': 1,\n",
       " 'latest': 2,\n",
       " 'lifestyle': 2,\n",
       " 'middleeast': 3,\n",
       " 'moscow_city': 1,\n",
       " 'politics': 11,\n",
       " 'science': 6,\n",
       " 'scitech': 1,\n",
       " 'sport': 3,\n",
       " 'starlife': 13,\n",
       " 'travel': 1,\n",
       " 'video': 10,\n",
       " 'world': 9}"
      ]
     },
     "execution_count": 12,
     "metadata": {},
     "output_type": "execute_result"
    }
   ],
   "source": [
    "import re\n",
    "\n",
    "theme_string_pattern = '^\\/(\\w*|-)\\/'\n",
    "theme_pattern = re.compile(theme_string_pattern)\n",
    "theme_distribution = {}\n",
    "\n",
    "with open('URLs.txt', 'r') as f:\n",
    "    for line in f:\n",
    "        # убираем символ переноса строки для каждой читаемой строчки\n",
    "        line = line.strip()\n",
    "        theme = theme_pattern.search(line)\n",
    "        if theme:\n",
    "            theme_key = theme.group(0).replace('/', '')\n",
    "            if theme_key in theme_distribution:\n",
    "                theme_distribution[theme_key] += 1 \n",
    "            else: \n",
    "                theme_distribution[theme_key] = 1         \n",
    "theme_distribution            "
   ]
  },
  {
   "cell_type": "code",
   "execution_count": null,
   "metadata": {},
   "outputs": [],
   "source": []
  }
 ],
 "metadata": {
  "kernelspec": {
   "display_name": "Python 3",
   "language": "python",
   "name": "python3"
  },
  "language_info": {
   "codemirror_mode": {
    "name": "ipython",
    "version": 3
   },
   "file_extension": ".py",
   "mimetype": "text/x-python",
   "name": "python",
   "nbconvert_exporter": "python",
   "pygments_lexer": "ipython3",
   "version": "3.6.4"
  }
 },
 "nbformat": 4,
 "nbformat_minor": 2
}
