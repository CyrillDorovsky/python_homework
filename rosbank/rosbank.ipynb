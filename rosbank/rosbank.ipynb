{
 "cells": [
  {
   "cell_type": "code",
   "execution_count": 80,
   "metadata": {},
   "outputs": [],
   "source": [
    "import pandas as pd\n",
    "import numpy as np\n",
    "import matplotlib.pyplot as plt\n",
    "import datetime\n",
    "from sklearn.linear_model import Lasso\n",
    "from sklearn.metrics import roc_auc_score, roc_curve\n",
    "%matplotlib inline"
   ]
  },
  {
   "cell_type": "code",
   "execution_count": 2,
   "metadata": {},
   "outputs": [
    {
     "data": {
      "text/html": [
       "<div>\n",
       "<style scoped>\n",
       "    .dataframe tbody tr th:only-of-type {\n",
       "        vertical-align: middle;\n",
       "    }\n",
       "\n",
       "    .dataframe tbody tr th {\n",
       "        vertical-align: top;\n",
       "    }\n",
       "\n",
       "    .dataframe thead th {\n",
       "        text-align: right;\n",
       "    }\n",
       "</style>\n",
       "<table border=\"1\" class=\"dataframe\">\n",
       "  <thead>\n",
       "    <tr style=\"text-align: right;\">\n",
       "      <th></th>\n",
       "      <th>PERIOD</th>\n",
       "      <th>cl_id</th>\n",
       "      <th>MCC</th>\n",
       "      <th>channel_type</th>\n",
       "      <th>currency</th>\n",
       "      <th>TRDATETIME</th>\n",
       "      <th>amount</th>\n",
       "      <th>trx_category</th>\n",
       "      <th>target_flag</th>\n",
       "      <th>target_sum</th>\n",
       "    </tr>\n",
       "  </thead>\n",
       "  <tbody>\n",
       "    <tr>\n",
       "      <th>0</th>\n",
       "      <td>01/10/2017</td>\n",
       "      <td>0</td>\n",
       "      <td>5200</td>\n",
       "      <td>NaN</td>\n",
       "      <td>810</td>\n",
       "      <td>21OCT17:00:00:00</td>\n",
       "      <td>5023.0</td>\n",
       "      <td>POS</td>\n",
       "      <td>0</td>\n",
       "      <td>0.0</td>\n",
       "    </tr>\n",
       "    <tr>\n",
       "      <th>1</th>\n",
       "      <td>01/10/2017</td>\n",
       "      <td>0</td>\n",
       "      <td>6011</td>\n",
       "      <td>NaN</td>\n",
       "      <td>810</td>\n",
       "      <td>12OCT17:12:24:07</td>\n",
       "      <td>20000.0</td>\n",
       "      <td>DEPOSIT</td>\n",
       "      <td>0</td>\n",
       "      <td>0.0</td>\n",
       "    </tr>\n",
       "    <tr>\n",
       "      <th>2</th>\n",
       "      <td>01/12/2017</td>\n",
       "      <td>0</td>\n",
       "      <td>5921</td>\n",
       "      <td>NaN</td>\n",
       "      <td>810</td>\n",
       "      <td>05DEC17:00:00:00</td>\n",
       "      <td>767.0</td>\n",
       "      <td>POS</td>\n",
       "      <td>0</td>\n",
       "      <td>0.0</td>\n",
       "    </tr>\n",
       "    <tr>\n",
       "      <th>3</th>\n",
       "      <td>01/10/2017</td>\n",
       "      <td>0</td>\n",
       "      <td>5411</td>\n",
       "      <td>NaN</td>\n",
       "      <td>810</td>\n",
       "      <td>21OCT17:00:00:00</td>\n",
       "      <td>2031.0</td>\n",
       "      <td>POS</td>\n",
       "      <td>0</td>\n",
       "      <td>0.0</td>\n",
       "    </tr>\n",
       "    <tr>\n",
       "      <th>4</th>\n",
       "      <td>01/10/2017</td>\n",
       "      <td>0</td>\n",
       "      <td>6012</td>\n",
       "      <td>NaN</td>\n",
       "      <td>810</td>\n",
       "      <td>24OCT17:13:14:24</td>\n",
       "      <td>36562.0</td>\n",
       "      <td>C2C_OUT</td>\n",
       "      <td>0</td>\n",
       "      <td>0.0</td>\n",
       "    </tr>\n",
       "  </tbody>\n",
       "</table>\n",
       "</div>"
      ],
      "text/plain": [
       "       PERIOD  cl_id   MCC channel_type  currency        TRDATETIME   amount  \\\n",
       "0  01/10/2017      0  5200          NaN       810  21OCT17:00:00:00   5023.0   \n",
       "1  01/10/2017      0  6011          NaN       810  12OCT17:12:24:07  20000.0   \n",
       "2  01/12/2017      0  5921          NaN       810  05DEC17:00:00:00    767.0   \n",
       "3  01/10/2017      0  5411          NaN       810  21OCT17:00:00:00   2031.0   \n",
       "4  01/10/2017      0  6012          NaN       810  24OCT17:13:14:24  36562.0   \n",
       "\n",
       "  trx_category  target_flag  target_sum  \n",
       "0          POS            0         0.0  \n",
       "1      DEPOSIT            0         0.0  \n",
       "2          POS            0         0.0  \n",
       "3          POS            0         0.0  \n",
       "4      C2C_OUT            0         0.0  "
      ]
     },
     "execution_count": 2,
     "metadata": {},
     "output_type": "execute_result"
    }
   ],
   "source": [
    "raw_df = pd.read_csv('rosbank_train.csv')\n",
    "raw_df.head(5)"
   ]
  },
  {
   "cell_type": "code",
   "execution_count": 3,
   "metadata": {},
   "outputs": [
    {
     "data": {
      "text/plain": [
       "490513"
      ]
     },
     "execution_count": 3,
     "metadata": {},
     "output_type": "execute_result"
    }
   ],
   "source": [
    "len(raw_df)"
   ]
  },
  {
   "cell_type": "code",
   "execution_count": 4,
   "metadata": {},
   "outputs": [
    {
     "name": "stdout",
     "output_type": "stream",
     "text": [
      "<class 'pandas.core.frame.DataFrame'>\n",
      "RangeIndex: 490513 entries, 0 to 490512\n",
      "Data columns (total 10 columns):\n",
      "PERIOD          490513 non-null object\n",
      "cl_id           490513 non-null int64\n",
      "MCC             490513 non-null int64\n",
      "channel_type    487603 non-null object\n",
      "currency        490513 non-null int64\n",
      "TRDATETIME      490513 non-null object\n",
      "amount          490513 non-null float64\n",
      "trx_category    490513 non-null object\n",
      "target_flag     490513 non-null int64\n",
      "target_sum      490513 non-null float64\n",
      "dtypes: float64(2), int64(4), object(4)\n",
      "memory usage: 37.4+ MB\n"
     ]
    }
   ],
   "source": [
    "raw_df.info()"
   ]
  },
  {
   "cell_type": "code",
   "execution_count": 5,
   "metadata": {},
   "outputs": [
    {
     "data": {
      "text/plain": [
       "5000"
      ]
     },
     "execution_count": 5,
     "metadata": {},
     "output_type": "execute_result"
    }
   ],
   "source": [
    "len(raw_df.cl_id.unique())"
   ]
  },
  {
   "cell_type": "code",
   "execution_count": 6,
   "metadata": {},
   "outputs": [],
   "source": [
    "cl_ids_test = np.random.choice(raw_df.cl_id.unique(), size=1000, replace=False)\n",
    "cl_ids_test_set = set(cl_ids_test)"
   ]
  },
  {
   "cell_type": "code",
   "execution_count": 30,
   "metadata": {},
   "outputs": [],
   "source": [
    "transaction_train = raw_df[~raw_df.cl_id.isin(cl_ids_test)].copy()\n",
    "transaction_test = raw_df[raw_df.cl_id.isin(cl_ids_test)].copy()"
   ]
  },
  {
   "cell_type": "markdown",
   "metadata": {},
   "source": [
    "Наборы данных вида Transactions (несколько транзакций на одного клиента) трансформировать в таблицу, где cl_id будут уникальными (соответственно 4000 строк в train и 1000 строк в test"
   ]
  },
  {
   "cell_type": "code",
   "execution_count": 44,
   "metadata": {},
   "outputs": [],
   "source": [
    "def uniqalize(dataset):\n",
    "    return dataset[['cl_id', 'target_flag']].drop_duplicates();\n",
    "\n",
    "def sum_amount(rich_dataset):\n",
    "    return pd.DataFrame(rich_dataset.groupby('cl_id')['amount'].sum()).reset_index()\n",
    "\n",
    "def sum_amount_by_currency(rich_dataset, currency):\n",
    "    return pd.DataFrame(rich_dataset[rich_dataset['currency'] == currency]\n",
    "                        .groupby('cl_id')['amount'].sum()).reset_index().rename(columns={'amount': currency})\n",
    "\n",
    "def transaction_by_day_count(dataset):\n",
    "    dataset_copy = dataset.copy()\n",
    "    dataset_copy['day_of_transaction'] = dataset_copy['TRDATETIME'].apply( lambda x: (datetime.datetime.strptime(x, '%d%b%y:%H:%M:%S')).strftime('%w') ) \n",
    "    return dataset_copy.groupby(['cl_id','day_of_transaction'])['day_of_transaction'].size().unstack().fillna(0).add_prefix('count_day_').reset_index()\n",
    "\n",
    "def transaction_by_hour_count(dataset):\n",
    "    dataset_copy = dataset.copy()\n",
    "    dataset_copy['hour_of_transaction'] = dataset_copy['TRDATETIME'].apply( lambda x: (datetime.datetime.strptime(x, '%d%b%y:%H:%M:%S')).strftime('%H') ) \n",
    "    return dataset_copy.groupby(['cl_id','hour_of_transaction'])['hour_of_transaction'].size().unstack().fillna(0).add_prefix('count_hour_').reset_index()\n",
    "\n",
    "def transaction_by_day_sum(dataset):\n",
    "    return dataset.groupby(['cl_id', 'day_of_transaction'])['amount'].sum().unstack().fillna(0).reset_index().add_prefix('sum_day_')\n",
    "\n",
    "def transaction_by_hour_sum(dataset):\n",
    "    return dataset.groupby(['cl_id', 'hour_of_transaction'])['amount'].sum().unstack().fillna(0).reset_index().add_prefix('sum_hour_')"
   ]
  },
  {
   "cell_type": "code",
   "execution_count": 40,
   "metadata": {},
   "outputs": [],
   "source": [
    "from sklearn.linear_model import LogisticRegression"
   ]
  },
  {
   "cell_type": "code",
   "execution_count": 56,
   "metadata": {},
   "outputs": [],
   "source": [
    "def make_features(dataset):\n",
    "    uniq_dataset = dataset.copy()\n",
    "    uniq_dataset = uniqalize(dataset)\n",
    "    uniq_dataset = pd.merge(uniq_dataset,sum_amount(dataset))\n",
    "    uniq_dataset = pd.merge(uniq_dataset,sum_amount_by_currency(dataset, 810),  how='outer')\n",
    "    uniq_dataset = pd.merge(uniq_dataset,sum_amount_by_currency(dataset, 978), how='outer')\n",
    "    uniq_dataset = pd.merge(uniq_dataset,sum_amount_by_currency(dataset, 840), how='outer')\n",
    "    uniq_dataset = pd.merge(uniq_dataset,transaction_by_day_count(dataset), how='outer')\n",
    "    uniq_dataset = pd.merge(uniq_dataset,transaction_by_hour_count(dataset), how='outer')\n",
    "    return uniq_dataset.fillna(0)"
   ]
  },
  {
   "cell_type": "code",
   "execution_count": 57,
   "metadata": {},
   "outputs": [],
   "source": [
    "def get_features(dataset):\n",
    "    return dataset.loc[:, dataset.columns != 'target_flag']"
   ]
  },
  {
   "cell_type": "code",
   "execution_count": 58,
   "metadata": {},
   "outputs": [
    {
     "data": {
      "text/plain": [
       "0.691"
      ]
     },
     "execution_count": 58,
     "metadata": {},
     "output_type": "execute_result"
    }
   ],
   "source": [
    "x = get_features(make_features(transaction_train))\n",
    "y = make_features(transaction_train)['target_flag']\n",
    "x_test = get_features(make_features(transaction_test))\n",
    "y_test = make_features(transaction_test)['target_flag']\n",
    "model = LogisticRegression()\n",
    "model.fit(x, y)\n",
    "model.score(x_test, y_test)"
   ]
  },
  {
   "cell_type": "code",
   "execution_count": 71,
   "metadata": {},
   "outputs": [],
   "source": [
    "rg = Lasso(alpha=0.01).fit(x, y)"
   ]
  },
  {
   "cell_type": "code",
   "execution_count": 75,
   "metadata": {},
   "outputs": [
    {
     "data": {
      "text/plain": [
       "array([-5.98993883e-05,  8.91578920e-09,  1.92531332e-08,  1.89286800e-05,\n",
       "        4.04904712e-06,  7.35746371e-04, -2.05194191e-04,  8.84945814e-04,\n",
       "        2.77381273e-03, -0.00000000e+00,  4.55471395e-04,  9.00094497e-04,\n",
       "        4.80533436e-04,  0.00000000e+00,  0.00000000e+00,  2.79026852e-03,\n",
       "        0.00000000e+00,  1.15214632e-02, -0.00000000e+00,  0.00000000e+00,\n",
       "        0.00000000e+00,  0.00000000e+00, -2.22493427e-03, -0.00000000e+00,\n",
       "       -4.58303788e-03,  1.89436707e-03,  0.00000000e+00,  0.00000000e+00,\n",
       "       -0.00000000e+00,  0.00000000e+00,  0.00000000e+00, -0.00000000e+00,\n",
       "       -0.00000000e+00, -0.00000000e+00,  0.00000000e+00,  0.00000000e+00])"
      ]
     },
     "execution_count": 75,
     "metadata": {},
     "output_type": "execute_result"
    }
   ],
   "source": [
    "rg.coef_"
   ]
  },
  {
   "cell_type": "code",
   "execution_count": 81,
   "metadata": {},
   "outputs": [
    {
     "name": "stdout",
     "output_type": "stream",
     "text": [
      "Train:  0.75\n",
      "Test:  0.75\n"
     ]
    }
   ],
   "source": [
    "y_train_predict = model.predict_proba(x)[:, 1]\n",
    "y_test_predict = model.predict_proba(x_test)[:, 1]\n",
    "roc_auc_train = np.round(roc_auc_score(y, y_train_predict), 2)\n",
    "roc_auc_test = np.round(roc_auc_score(y_test, y_test_predict), 2)\n",
    "print(\"Train: \", roc_auc_train)\n",
    "print(\"Test: \", roc_auc_test)"
   ]
  },
  {
   "cell_type": "code",
   "execution_count": 104,
   "metadata": {},
   "outputs": [
    {
     "data": {
      "text/plain": [
       "MCC\n",
       "5411    95600\n",
       "6011    43093\n",
       "5814    32540\n",
       "5812    23586\n",
       "5499    21263\n",
       "5541    15883\n",
       "5912    14886\n",
       "5999    10431\n",
       "6012     7936\n",
       "5921     6515\n",
       "5331     5909\n",
       "4829     4973\n",
       "5211     4967\n",
       "4121     4890\n",
       "5691     4060\n",
       "5261     3774\n",
       "4111     3406\n",
       "5977     3392\n",
       "5200     2699\n",
       "5732     2599\n",
       "5311     2597\n",
       "5533     2316\n",
       "5651     2287\n",
       "5641     2207\n",
       "4812     2180\n",
       "8999     2080\n",
       "8099     2067\n",
       "5661     2014\n",
       "5722     2003\n",
       "5941     1989\n",
       "        ...  \n",
       "7012        1\n",
       "5998        1\n",
       "3628        1\n",
       "5937        1\n",
       "3032        1\n",
       "8675        1\n",
       "3625        1\n",
       "7519        1\n",
       "3515        1\n",
       "3513        1\n",
       "3535        1\n",
       "3508        1\n",
       "8244        1\n",
       "3543        1\n",
       "3387        1\n",
       "3583        1\n",
       "5139        1\n",
       "3659        1\n",
       "3236        1\n",
       "3778        1\n",
       "3191        1\n",
       "3730        1\n",
       "3181        1\n",
       "3715        1\n",
       "7631        1\n",
       "3520        1\n",
       "3607        1\n",
       "3057        1\n",
       "3051        1\n",
       "5960        1\n",
       "Length: 333, dtype: int64"
      ]
     },
     "execution_count": 104,
     "metadata": {},
     "output_type": "execute_result"
    }
   ],
   "source": [
    "transaction_train.groupby('MCC').size().sort_values(ascending=False)"
   ]
  },
  {
   "cell_type": "code",
   "execution_count": null,
   "metadata": {},
   "outputs": [],
   "source": []
  }
 ],
 "metadata": {
  "kernelspec": {
   "display_name": "Python 3",
   "language": "python",
   "name": "python3"
  },
  "language_info": {
   "codemirror_mode": {
    "name": "ipython",
    "version": 3
   },
   "file_extension": ".py",
   "mimetype": "text/x-python",
   "name": "python",
   "nbconvert_exporter": "python",
   "pygments_lexer": "ipython3",
   "version": "3.6.4"
  }
 },
 "nbformat": 4,
 "nbformat_minor": 2
}
